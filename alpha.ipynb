{
 "cells": [
  {
   "cell_type": "code",
   "execution_count": 1,
   "metadata": {},
   "outputs": [],
   "source": [
    "import requests\n",
    "from getpass import getpass"
   ]
  },
  {
   "cell_type": "markdown",
   "metadata": {},
   "source": [
    "# Login"
   ]
  },
  {
   "cell_type": "code",
   "execution_count": 2,
   "metadata": {},
   "outputs": [
    {
     "name": "stdout",
     "output_type": "stream",
     "text": [
      "email:ntc61082@live.missouristate.edu\n",
      "password:········\n"
     ]
    }
   ],
   "source": [
    "data = {\n",
    "    \"email\":input('email:'),\n",
    "    \"password\":getpass('password:')\n",
    "}"
   ]
  },
  {
   "cell_type": "code",
   "execution_count": 180,
   "metadata": {},
   "outputs": [],
   "source": [
    "response = requests.post('https://bootcampspot.com/api/instructor/v1/login', json=data)"
   ]
  },
  {
   "cell_type": "markdown",
   "metadata": {},
   "source": [
    "# Get Assigned Classes"
   ]
  },
  {
   "cell_type": "code",
   "execution_count": 181,
   "metadata": {},
   "outputs": [],
   "source": [
    "params = {\n",
    "    \"Content-Type\":\"application/json\",\n",
    "    \"authToken\":response.json()['authenticationInfo']['authToken']\n",
    "}"
   ]
  },
  {
   "cell_type": "code",
   "execution_count": 182,
   "metadata": {},
   "outputs": [],
   "source": [
    "me = requests.get('https://bootcampspot.com/api/instructor/v1/me', params=params)"
   ]
  },
  {
   "cell_type": "code",
   "execution_count": 183,
   "metadata": {},
   "outputs": [
    {
     "name": "stdout",
     "output_type": "stream",
     "text": [
      "courseIds [2192, 1513, 1084]\n",
      "enrollmentIds [395037, 253348, 200149]\n"
     ]
    }
   ],
   "source": [
    "courseIds = [x['courseId'] for x in me.json()['enrollments']]\n",
    "enrollmentIds = [x['id'] for x in me.json()['enrollments']]\n",
    "print('courseIds',courseIds)\n",
    "print('enrollmentIds',enrollmentIds)"
   ]
  },
  {
   "cell_type": "markdown",
   "metadata": {},
   "source": [
    "# Select Assigned Class\n",
    "This example selects the first listed class"
   ]
  },
  {
   "cell_type": "code",
   "execution_count": 184,
   "metadata": {},
   "outputs": [],
   "source": [
    "courseId = courseIds[0]\n",
    "enrollmentId = enrollmentIds[0]"
   ]
  },
  {
   "cell_type": "markdown",
   "metadata": {},
   "source": [
    "# Get Data"
   ]
  },
  {
   "cell_type": "markdown",
   "metadata": {},
   "source": [
    "courseId is required by attenance and grades"
   ]
  },
  {
   "cell_type": "code",
   "execution_count": 185,
   "metadata": {},
   "outputs": [],
   "source": [
    "json = {\n",
    "    'courseId':courseId\n",
    "}"
   ]
  },
  {
   "cell_type": "code",
   "execution_count": 186,
   "metadata": {},
   "outputs": [],
   "source": [
    "attendance = requests.post('https://bootcampspot.com/api/instructor/v1/attendance', params=params, json=json)\n",
    "grades = requests.post('https://bootcampspot.com/api/instructor/v1/grades', params=params, json=json)"
   ]
  },
  {
   "cell_type": "markdown",
   "metadata": {},
   "source": [
    "enrollmentId is required by sessions and assignments"
   ]
  },
  {
   "cell_type": "code",
   "execution_count": 187,
   "metadata": {},
   "outputs": [],
   "source": [
    "json = {\n",
    "    'enrollmentId':enrollmentId\n",
    "}"
   ]
  },
  {
   "cell_type": "code",
   "execution_count": 188,
   "metadata": {},
   "outputs": [],
   "source": [
    "sessions = requests.post('https://bootcampspot.com/api/instructor/v1/sessions', params=params, json=json)\n",
    "assignments = requests.post('https://bootcampspot.com/api/instructor/v1/assignments', params=params, json=json)"
   ]
  },
  {
   "cell_type": "markdown",
   "metadata": {},
   "source": [
    "Example sessionId Selection"
   ]
  },
  {
   "cell_type": "code",
   "execution_count": 189,
   "metadata": {},
   "outputs": [],
   "source": [
    "sessionsDict = {x['session']['name']:x['session']['id'] for x in sessions.json()['calendarSessions'] if 'Not required' not in x['session']['name']}\n",
    "sessionId = sessionsDict['Dipping Into Data']"
   ]
  },
  {
   "cell_type": "markdown",
   "metadata": {},
   "source": [
    "sessionId is required by sessionDetal"
   ]
  },
  {
   "cell_type": "code",
   "execution_count": 190,
   "metadata": {},
   "outputs": [],
   "source": [
    "json = {\n",
    "    'sessionId':sessionId\n",
    "}"
   ]
  },
  {
   "cell_type": "code",
   "execution_count": 191,
   "metadata": {},
   "outputs": [],
   "source": [
    "sessionDetail = requests.post('https://bootcampspot.com/api/instructor/v1/sessionDetail', params=params, json=json)"
   ]
  },
  {
   "cell_type": "markdown",
   "metadata": {},
   "source": [
    "# Create Attendace CSV"
   ]
  },
  {
   "cell_type": "code",
   "execution_count": 104,
   "metadata": {},
   "outputs": [],
   "source": [
    "import csv\n",
    "attendance = attendance.json()"
   ]
  },
  {
   "cell_type": "code",
   "execution_count": 123,
   "metadata": {},
   "outputs": [],
   "source": [
    "fieldnames = [x for x in sessionsDict]\n",
    "fieldnames[0]='Name'"
   ]
  },
  {
   "cell_type": "code",
   "execution_count": 102,
   "metadata": {},
   "outputs": [],
   "source": [
    "students = []\n",
    "for x in attendance:\n",
    "    if x['studentName'] not in students:\n",
    "        students.append(x['studentName'])"
   ]
  },
  {
   "cell_type": "code",
   "execution_count": 129,
   "metadata": {},
   "outputs": [],
   "source": [
    "with open('attendance.csv','w',newline='') as csvfile:\n",
    "    writer = csv.DictWriter(csvfile, fieldnames=fieldnames)\n",
    "    writer.writeheader()\n",
    "    for student in students:\n",
    "        sa = {x['sessionName']:x['present'] or x['remote'] for x in attendance if x['studentName'] == student and 'Not required' not in x['sessionName'] and x['sessionName'] in fieldnames}\n",
    "        sa['Name'] = student\n",
    "        writer.writerow(sa)"
   ]
  },
  {
   "cell_type": "markdown",
   "metadata": {},
   "source": [
    "# Create Grades CSV"
   ]
  },
  {
   "cell_type": "code",
   "execution_count": 192,
   "metadata": {},
   "outputs": [],
   "source": [
    "import csv\n",
    "grades = grades.json()\n",
    "assignments = assignments.json()"
   ]
  },
  {
   "cell_type": "code",
   "execution_count": 168,
   "metadata": {},
   "outputs": [],
   "source": [
    "fieldnames = ['Name']\n",
    "fieldnames.extend([x['title'] for x in assignments['calendarAssignments'] if 'Milestone' not in x['title']])"
   ]
  },
  {
   "cell_type": "code",
   "execution_count": 171,
   "metadata": {},
   "outputs": [],
   "source": [
    "students = []\n",
    "for x in grades:\n",
    "    if x['studentName'] not in students:\n",
    "        students.append(x['studentName'])"
   ]
  },
  {
   "cell_type": "code",
   "execution_count": 179,
   "metadata": {},
   "outputs": [],
   "source": [
    "with open('grades.csv','w',newline='') as csvfile:\n",
    "    writer = csv.DictWriter(csvfile, fieldnames=fieldnames)\n",
    "    writer.writeheader()\n",
    "    for student in students:\n",
    "        sg = {x['assignmentTitle']:x['grade'] for x in grades if x['studentName'] == student and 'Milestone' not in x['assignmentTitle']}\n",
    "        sg['Name'] = student\n",
    "        writer.writerow(sg)"
   ]
  },
  {
   "cell_type": "code",
   "execution_count": null,
   "metadata": {},
   "outputs": [],
   "source": []
  },
  {
   "cell_type": "code",
   "execution_count": null,
   "metadata": {},
   "outputs": [],
   "source": []
  }
 ],
 "metadata": {
  "kernelspec": {
   "display_name": "Python 3",
   "language": "python",
   "name": "python3"
  },
  "language_info": {
   "codemirror_mode": {
    "name": "ipython",
    "version": 3
   },
   "file_extension": ".py",
   "mimetype": "text/x-python",
   "name": "python",
   "nbconvert_exporter": "python",
   "pygments_lexer": "ipython3",
   "version": "3.7.3"
  }
 },
 "nbformat": 4,
 "nbformat_minor": 2
}
